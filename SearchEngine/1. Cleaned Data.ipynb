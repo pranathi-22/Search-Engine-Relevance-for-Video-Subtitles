{
 "cells": [
  {
   "cell_type": "markdown",
   "id": "2823a23b",
   "metadata": {},
   "source": [
    "# Step 1: Reading the Given Data"
   ]
  },
  {
   "cell_type": "code",
   "execution_count": 1,
   "id": "099cb476",
   "metadata": {},
   "outputs": [],
   "source": [
    "import sqlite3\n",
    "\n",
    "# Connect to the SQLite database\n",
    "conn = sqlite3.connect('C:/Users/Sampada/Downloads/eng_subtitles_database.db') \n"
   ]
  },
  {
   "cell_type": "code",
   "execution_count": 2,
   "id": "ce3c890d",
   "metadata": {},
   "outputs": [],
   "source": [
    "# Read the contents of the README.txt file\n",
    "with open(\"C:/Users/Sampada/Downloads/README.txt\", 'r') as readme_file:\n",
    "    readme_contents = readme_file.read()\n",
    "    "
   ]
  },
  {
   "cell_type": "code",
   "execution_count": 3,
   "id": "76561c2f",
   "metadata": {},
   "outputs": [
    {
     "name": "stdout",
     "output_type": "stream",
     "text": [
      "Database contains a sample of 82498 subtitle files from opensubtitles.org. \n",
      "\n",
      "Most of the subtitles are of movies and tv-series which were released after 1990 and before 2024.\n",
      "\n",
      "Database File Name: eng_subtitles_database.db\n",
      "Database contains a table called 'zipfiles' with three columns.\n",
      "1. num: Unique Subtitle ID reference for www.opensubtitles.org \n",
      "2. name: Subtitle File Name\n",
      "3. content: Subtitle file were compressed and stored as a binary using 'latin-1' encoding.\n",
      "\n",
      "\n",
      "\n",
      "You can use 'num' to get more details about each subtitle by going to the following link:\n",
      "https://www.opensubtitles.org/en/subtitles/{num}\n",
      "**Replace {num} with Unique Subtitle ID.\n"
     ]
    }
   ],
   "source": [
    "# Display the contents of the README.txt file\n",
    "print(readme_contents)\n"
   ]
  },
  {
   "cell_type": "code",
   "execution_count": 4,
   "id": "70f23e96",
   "metadata": {},
   "outputs": [],
   "source": [
    "# Close the database connection\n",
    "conn.close()\n"
   ]
  },
  {
   "cell_type": "markdown",
   "id": "d9e2df67",
   "metadata": {},
   "source": [
    "# Step 2: Preprocessing the data"
   ]
  },
  {
   "cell_type": "code",
   "execution_count": 5,
   "id": "fe81debb",
   "metadata": {},
   "outputs": [],
   "source": [
    "import pandas as pd\n",
    "\n",
    "# Read subtitle documents from the database into a DataFrame\n",
    "conn = sqlite3.connect('C:/Users/Sampada/Downloads/eng_subtitles_database.db')\n",
    "se = pd.read_sql_query(\"SELECT * FROM zipfiles\", conn)  \n"
   ]
  },
  {
   "cell_type": "code",
   "execution_count": 6,
   "id": "0d4aba5c",
   "metadata": {},
   "outputs": [
    {
     "name": "stdout",
     "output_type": "stream",
     "text": [
      "Shape of the DataFrame:\n",
      "(82498, 3)\n"
     ]
    }
   ],
   "source": [
    "# Performing basic preprocessing steps\n",
    "# Let's check the shape of the DataFrame\n",
    "print(\"Shape of the DataFrame:\")\n",
    "print(se.shape)\n"
   ]
  },
  {
   "cell_type": "code",
   "execution_count": 9,
   "id": "dc958ecc",
   "metadata": {},
   "outputs": [
    {
     "name": "stdout",
     "output_type": "stream",
     "text": [
      "Index(['num', 'name', 'content'], dtype='object')\n"
     ]
    }
   ],
   "source": [
    "# Check the column names to identify the correct one\n",
    "print(se.columns)\n"
   ]
  },
  {
   "cell_type": "code",
   "execution_count": 7,
   "id": "4caa2e78",
   "metadata": {},
   "outputs": [
    {
     "name": "stdout",
     "output_type": "stream",
     "text": [
      "\n",
      "First few rows of the DataFrame:\n",
      "       num                                               name  \\\n",
      "0  9180533                         the.message.(1976).eng.1cd   \n",
      "1  9180583  here.comes.the.grump.s01.e09.joltin.jack.in.bo...   \n",
      "2  9180592    yumis.cells.s02.e13.episode.2.13.(2022).eng.1cd   \n",
      "3  9180594    yumis.cells.s02.e14.episode.2.14.(2022).eng.1cd   \n",
      "4  9180600                              broker.(2022).eng.1cd   \n",
      "\n",
      "                                             content  \n",
      "0  b'PK\\x03\\x04\\x14\\x00\\x00\\x00\\x08\\x00\\x1c\\xa9\\x...  \n",
      "1  b'PK\\x03\\x04\\x14\\x00\\x00\\x00\\x08\\x00\\x17\\xb9\\x...  \n",
      "2  b'PK\\x03\\x04\\x14\\x00\\x00\\x00\\x08\\x00L\\xb9\\x99V...  \n",
      "3  b'PK\\x03\\x04\\x14\\x00\\x00\\x00\\x08\\x00U\\xa9\\x99V...  \n",
      "4  b'PK\\x03\\x04\\x14\\x00\\x00\\x00\\x08\\x001\\xa9\\x99V...  \n"
     ]
    }
   ],
   "source": [
    "# Let's examine the first few rows of the DataFrame\n",
    "print(\"\\nFirst few rows of the DataFrame:\")\n",
    "print(se.head())\n"
   ]
  },
  {
   "cell_type": "code",
   "execution_count": 8,
   "id": "52318250",
   "metadata": {},
   "outputs": [
    {
     "name": "stdout",
     "output_type": "stream",
     "text": [
      "\n",
      "Last few rows of the DataFrame:\n",
      "           num                                        name  \\\n",
      "82493  9521935            the.prophets.game.(2000).eng.1cd   \n",
      "82494  9521937                  west.beirut.(1998).eng.1cd   \n",
      "82495  9521938  frankenstein.the.true.story.(1973).eng.1cd   \n",
      "82496  9521940  frankenstein.the.true.story.(1973).eng.1cd   \n",
      "82497  9521941       zombie.island.massacre.(1984).eng.1cd   \n",
      "\n",
      "                                                 content  \n",
      "82493  b'PK\\x03\\x04\\x14\\x00\\x00\\x00\\x08\\x00\\xb8\\xa6\\x...  \n",
      "82494  b'PK\\x03\\x04\\x14\\x00\\x00\\x00\\x08\\x00\\x13\\x97\\x...  \n",
      "82495  b'PK\\x03\\x04\\x14\\x00\\x00\\x00\\x08\\x00$\\x97\\x9aV...  \n",
      "82496  b'PK\\x03\\x04\\x14\\x00\\x00\\x00\\x08\\x00\\x00\\x97\\x...  \n",
      "82497  b'PK\\x03\\x04\\x14\\x00\\x00\\x00\\x08\\x00,\\x97\\x9aV...  \n"
     ]
    }
   ],
   "source": [
    "# Let's examine the last few rows of the DataFrame\n",
    "print(\"\\nLast few rows of the DataFrame:\")\n",
    "print(se.tail())\n"
   ]
  },
  {
   "cell_type": "code",
   "execution_count": 10,
   "id": "c70dc6aa",
   "metadata": {},
   "outputs": [],
   "source": [
    "# Close the database connection\n",
    "conn.close()\n"
   ]
  },
  {
   "cell_type": "markdown",
   "id": "9569c858",
   "metadata": {},
   "source": [
    "# Step - 3: Unzipping & Applying Cleaning Steps on Subtitle Documents¶"
   ]
  },
  {
   "cell_type": "code",
   "execution_count": 20,
   "id": "750b1514",
   "metadata": {},
   "outputs": [],
   "source": [
    "import pandas as pd\n",
    "import sqlite3\n",
    "import zipfile\n",
    "import re\n",
    "\n",
    "# Connect to the SQLite database\n",
    "conn = sqlite3.connect('C:/Users/Sampada/Downloads/eng_subtitles_database.db')\n",
    "\n",
    "# Read subtitle documents from the database into a DataFrame\n",
    "se = pd.read_sql_query(\"SELECT * FROM zipfiles\", conn)  # Replace 'zipfiles' with your table name\n",
    "\n",
    "# Close the database connection\n",
    "conn.close()\n"
   ]
  },
  {
   "cell_type": "code",
   "execution_count": 21,
   "id": "cc957074",
   "metadata": {},
   "outputs": [],
   "source": [
    "import io\n",
    "\n",
    "# Define a function to unzip files and extract text\n",
    "def unzip_and_extract(binary_data):\n",
    "    extracted_texts = []\n",
    "    with io.BytesIO(binary_data) as f:\n",
    "        with zipfile.ZipFile(f, 'r') as zip_ref:\n",
    "            for file_name in zip_ref.namelist():\n",
    "                with zip_ref.open(file_name) as file:\n",
    "                    extracted_text = file.read().decode('latin-1')  # Decode content from latin-1 encoding\n",
    "                    cleaned_text = clean_text(extracted_text)\n",
    "                    extracted_texts.append(cleaned_text)\n",
    "    return extracted_texts\n"
   ]
  },
  {
   "cell_type": "code",
   "execution_count": 23,
   "id": "716cc146",
   "metadata": {},
   "outputs": [],
   "source": [
    "import re\n",
    "\n",
    "# Define a function to clean the text\n",
    "def clean_text(text):\n",
    "    # Remove timestamps (e.g., [00:00:00])\n",
    "    cleaned_text = re.sub(r'\\[\\d+:\\d+:\\d+\\]', '', text)\n",
    "    # Remove any other special characters or symbols\n",
    "    cleaned_text = re.sub(r'[^\\w\\s]', '', cleaned_text)\n",
    "    # Convert to lowercase\n",
    "    cleaned_text = cleaned_text.lower()\n",
    "    # Remove extra whitespaces\n",
    "    cleaned_text = ' '.join(cleaned_text.split())\n",
    "    return cleaned_text\n"
   ]
  },
  {
   "cell_type": "code",
   "execution_count": 26,
   "id": "52a3cacc",
   "metadata": {},
   "outputs": [],
   "source": [
    "# Apply the clean_text function to each extracted text\n",
    "se['cleaned_text'] = se['content'].apply(unzip_and_extract).str.join('').apply(clean_text)\n"
   ]
  },
  {
   "cell_type": "code",
   "execution_count": 27,
   "id": "6d240a43",
   "metadata": {},
   "outputs": [
    {
     "name": "stdout",
     "output_type": "stream",
     "text": [
      "       num                                               name  \\\n",
      "0  9180533                         the.message.(1976).eng.1cd   \n",
      "1  9180583  here.comes.the.grump.s01.e09.joltin.jack.in.bo...   \n",
      "2  9180592    yumis.cells.s02.e13.episode.2.13.(2022).eng.1cd   \n",
      "3  9180594    yumis.cells.s02.e14.episode.2.14.(2022).eng.1cd   \n",
      "4  9180600                              broker.(2022).eng.1cd   \n",
      "\n",
      "                                             content  \\\n",
      "0  b'PK\\x03\\x04\\x14\\x00\\x00\\x00\\x08\\x00\\x1c\\xa9\\x...   \n",
      "1  b'PK\\x03\\x04\\x14\\x00\\x00\\x00\\x08\\x00\\x17\\xb9\\x...   \n",
      "2  b'PK\\x03\\x04\\x14\\x00\\x00\\x00\\x08\\x00L\\xb9\\x99V...   \n",
      "3  b'PK\\x03\\x04\\x14\\x00\\x00\\x00\\x08\\x00U\\xa9\\x99V...   \n",
      "4  b'PK\\x03\\x04\\x14\\x00\\x00\\x00\\x08\\x001\\xa9\\x99V...   \n",
      "\n",
      "                                        cleaned_text  \n",
      "0  1 000006000 000012074 watch any video online w...  \n",
      "1  1 000029359 000032048 ah theres princess dawn ...  \n",
      "2  1 000053200 000056030 iyumis cells 2i 2 000059...  \n",
      "3  1 000006000 000012074 watch any video online w...  \n",
      "4  ï1 000006000 000012074 watch any video online ...  \n"
     ]
    }
   ],
   "source": [
    "# Display the DataFrame with the added 'cleaned_text' column\n",
    "print(se.head())\n"
   ]
  },
  {
   "cell_type": "code",
   "execution_count": 28,
   "id": "6cd4af61",
   "metadata": {},
   "outputs": [],
   "source": [
    "# Close the database connection\n",
    "conn.close()\n"
   ]
  },
  {
   "cell_type": "markdown",
   "id": "d726b545",
   "metadata": {},
   "source": [
    "# Step 4: Saving Cleaned Data to CSV Format"
   ]
  },
  {
   "cell_type": "code",
   "execution_count": 34,
   "id": "791e2b6a",
   "metadata": {},
   "outputs": [
    {
     "name": "stdout",
     "output_type": "stream",
     "text": [
      "Requirement already satisfied: pandas in c:\\users\\sampada\\anaconda3\\lib\\site-packages (2.0.3)Note: you may need to restart the kernel to use updated packages.\n",
      "\n",
      "Requirement already satisfied: python-dateutil>=2.8.2 in c:\\users\\sampada\\anaconda3\\lib\\site-packages (from pandas) (2.8.2)\n",
      "Requirement already satisfied: pytz>=2020.1 in c:\\users\\sampada\\anaconda3\\lib\\site-packages (from pandas) (2023.3.post1)\n",
      "Requirement already satisfied: tzdata>=2022.1 in c:\\users\\sampada\\anaconda3\\lib\\site-packages (from pandas) (2023.3)\n",
      "Requirement already satisfied: numpy>=1.21.0 in c:\\users\\sampada\\anaconda3\\lib\\site-packages (from pandas) (1.24.3)\n",
      "Requirement already satisfied: six>=1.5 in c:\\users\\sampada\\anaconda3\\lib\\site-packages (from python-dateutil>=2.8.2->pandas) (1.16.0)\n"
     ]
    }
   ],
   "source": [
    "pip install pandas\n"
   ]
  },
  {
   "cell_type": "code",
   "execution_count": 39,
   "id": "5428656c",
   "metadata": {},
   "outputs": [],
   "source": [
    "import pandas as pd"
   ]
  },
  {
   "cell_type": "code",
   "execution_count": 35,
   "id": "94187f8b",
   "metadata": {},
   "outputs": [
    {
     "name": "stdout",
     "output_type": "stream",
     "text": [
      "Cleaned data saved to 'cleaned_data.csv'.\n"
     ]
    }
   ],
   "source": [
    "# Save the cleaned data to a CSV file\n",
    "csv_file_path = 'cleaned_data.csv'\n",
    "se.to_csv(csv_file_path, index=False)\n",
    "\n",
    "# Print message confirming the saving of the CSV file\n",
    "print(f\"Cleaned data saved to '{csv_file_path}'.\")\n"
   ]
  },
  {
   "cell_type": "code",
   "execution_count": 38,
   "id": "20af18ac",
   "metadata": {},
   "outputs": [],
   "source": [
    "# Load the cleaned data from the CSV file\n",
    "csv_file_path = 'cleaned_data.csv'\n",
    "cleaned_data = pd.read_csv(csv_file_path)\n"
   ]
  },
  {
   "cell_type": "code",
   "execution_count": 40,
   "id": "1e76bc12",
   "metadata": {},
   "outputs": [
    {
     "name": "stdout",
     "output_type": "stream",
     "text": [
      "Shape of the DataFrame:\n",
      "(82498, 4)\n"
     ]
    }
   ],
   "source": [
    "# Print basic information about the DataFrame\n",
    "# Print the shape of dataframe\n",
    "print(\"Shape of the DataFrame:\")\n",
    "print(cleaned_data.shape)\n"
   ]
  },
  {
   "cell_type": "code",
   "execution_count": 41,
   "id": "22b57286",
   "metadata": {},
   "outputs": [
    {
     "name": "stdout",
     "output_type": "stream",
     "text": [
      "\n",
      "Column names:\n",
      "Index(['num', 'name', 'content', 'cleaned_text'], dtype='object')\n"
     ]
    }
   ],
   "source": [
    "# Print the column names of dataframe\n",
    "print(\"\\nColumn names:\")\n",
    "print(cleaned_data.columns)\n"
   ]
  },
  {
   "cell_type": "code",
   "execution_count": 42,
   "id": "4374cfdd",
   "metadata": {},
   "outputs": [
    {
     "name": "stdout",
     "output_type": "stream",
     "text": [
      "\n",
      "First few rows of the DataFrame:\n",
      "       num                                               name  \\\n",
      "0  9180533                         the.message.(1976).eng.1cd   \n",
      "1  9180583  here.comes.the.grump.s01.e09.joltin.jack.in.bo...   \n",
      "2  9180592    yumis.cells.s02.e13.episode.2.13.(2022).eng.1cd   \n",
      "3  9180594    yumis.cells.s02.e14.episode.2.14.(2022).eng.1cd   \n",
      "4  9180600                              broker.(2022).eng.1cd   \n",
      "\n",
      "                                             content  \\\n",
      "0  b'PK\\x03\\x04\\x14\\x00\\x00\\x00\\x08\\x00\\x1c\\xa9\\x...   \n",
      "1  b'PK\\x03\\x04\\x14\\x00\\x00\\x00\\x08\\x00\\x17\\xb9\\x...   \n",
      "2  b'PK\\x03\\x04\\x14\\x00\\x00\\x00\\x08\\x00L\\xb9\\x99V...   \n",
      "3  b'PK\\x03\\x04\\x14\\x00\\x00\\x00\\x08\\x00U\\xa9\\x99V...   \n",
      "4  b'PK\\x03\\x04\\x14\\x00\\x00\\x00\\x08\\x001\\xa9\\x99V...   \n",
      "\n",
      "                                        cleaned_text  \n",
      "0  1 000006000 000012074 watch any video online w...  \n",
      "1  1 000029359 000032048 ah theres princess dawn ...  \n",
      "2  1 000053200 000056030 iyumis cells 2i 2 000059...  \n",
      "3  1 000006000 000012074 watch any video online w...  \n",
      "4  ï1 000006000 000012074 watch any video online ...  \n"
     ]
    }
   ],
   "source": [
    "# Print the first few rows of dataframe\n",
    "print(\"\\nFirst few rows of the DataFrame:\")\n",
    "print(cleaned_data.head())\n"
   ]
  },
  {
   "cell_type": "code",
   "execution_count": 43,
   "id": "20f9812b",
   "metadata": {},
   "outputs": [
    {
     "name": "stdout",
     "output_type": "stream",
     "text": [
      "\n",
      "Last few rows of the DataFrame:\n",
      "           num                                        name  \\\n",
      "82493  9521935            the.prophets.game.(2000).eng.1cd   \n",
      "82494  9521937                  west.beirut.(1998).eng.1cd   \n",
      "82495  9521938  frankenstein.the.true.story.(1973).eng.1cd   \n",
      "82496  9521940  frankenstein.the.true.story.(1973).eng.1cd   \n",
      "82497  9521941       zombie.island.massacre.(1984).eng.1cd   \n",
      "\n",
      "                                                 content  \\\n",
      "82493  b'PK\\x03\\x04\\x14\\x00\\x00\\x00\\x08\\x00\\xb8\\xa6\\x...   \n",
      "82494  b'PK\\x03\\x04\\x14\\x00\\x00\\x00\\x08\\x00\\x13\\x97\\x...   \n",
      "82495  b'PK\\x03\\x04\\x14\\x00\\x00\\x00\\x08\\x00$\\x97\\x9aV...   \n",
      "82496  b'PK\\x03\\x04\\x14\\x00\\x00\\x00\\x08\\x00\\x00\\x97\\x...   \n",
      "82497  b'PK\\x03\\x04\\x14\\x00\\x00\\x00\\x08\\x00,\\x97\\x9aV...   \n",
      "\n",
      "                                            cleaned_text  \n",
      "82493  ï1 000116284 000119537 god why are you punishi...  \n",
      "82494  1 000006000 000012074 apiopensubtitlesorg is d...  \n",
      "82495  1 000001001 000004630 dramatic orchestral musi...  \n",
      "82496  1 000006000 000012074 advertise your product o...  \n",
      "82497  1 000001919 000003253 sharp whistling 2 000003...  \n"
     ]
    }
   ],
   "source": [
    "# Print the last few rows of dataframe\n",
    "print(\"\\nLast few rows of the DataFrame:\")\n",
    "print(cleaned_data.tail())\n"
   ]
  },
  {
   "cell_type": "code",
   "execution_count": 45,
   "id": "575107ee",
   "metadata": {},
   "outputs": [],
   "source": [
    "# Define a function to remove numbers using regular expressions\n",
    "def remove_numbers(text):\n",
    "    return re.sub(r'\\d+', '', text)\n"
   ]
  },
  {
   "cell_type": "code",
   "execution_count": 46,
   "id": "6414c9ee",
   "metadata": {},
   "outputs": [],
   "source": [
    "# Apply the function to remove numbers from the 'cleaned_text' column\n",
    "cleaned_data['cleaned_text'] = cleaned_data['cleaned_text'].apply(remove_numbers)\n"
   ]
  },
  {
   "cell_type": "code",
   "execution_count": 47,
   "id": "7befcbd4",
   "metadata": {},
   "outputs": [
    {
     "name": "stdout",
     "output_type": "stream",
     "text": [
      "       num                                               name  \\\n",
      "0  9180533                         the.message.(1976).eng.1cd   \n",
      "1  9180583  here.comes.the.grump.s01.e09.joltin.jack.in.bo...   \n",
      "2  9180592    yumis.cells.s02.e13.episode.2.13.(2022).eng.1cd   \n",
      "3  9180594    yumis.cells.s02.e14.episode.2.14.(2022).eng.1cd   \n",
      "4  9180600                              broker.(2022).eng.1cd   \n",
      "\n",
      "                                             content  \\\n",
      "0  b'PK\\x03\\x04\\x14\\x00\\x00\\x00\\x08\\x00\\x1c\\xa9\\x...   \n",
      "1  b'PK\\x03\\x04\\x14\\x00\\x00\\x00\\x08\\x00\\x17\\xb9\\x...   \n",
      "2  b'PK\\x03\\x04\\x14\\x00\\x00\\x00\\x08\\x00L\\xb9\\x99V...   \n",
      "3  b'PK\\x03\\x04\\x14\\x00\\x00\\x00\\x08\\x00U\\xa9\\x99V...   \n",
      "4  b'PK\\x03\\x04\\x14\\x00\\x00\\x00\\x08\\x001\\xa9\\x99V...   \n",
      "\n",
      "                                        cleaned_text  \n",
      "0     watch any video online with opensubtitles f...  \n",
      "1     ah theres princess dawn and terry with the ...  \n",
      "2     iyumis cells i    iepisode  extremely polit...  \n",
      "3     watch any video online with opensubtitles f...  \n",
      "4  ï   watch any video online with opensubtitles ...  \n"
     ]
    }
   ],
   "source": [
    "# Print first few rows of the cleaned data\n",
    "print(cleaned_data.head())\n"
   ]
  }
 ],
 "metadata": {
  "kernelspec": {
   "display_name": "Python 3 (ipykernel)",
   "language": "python",
   "name": "python3"
  },
  "language_info": {
   "codemirror_mode": {
    "name": "ipython",
    "version": 3
   },
   "file_extension": ".py",
   "mimetype": "text/x-python",
   "name": "python",
   "nbconvert_exporter": "python",
   "pygments_lexer": "ipython3",
   "version": "3.11.5"
  }
 },
 "nbformat": 4,
 "nbformat_minor": 5
}
